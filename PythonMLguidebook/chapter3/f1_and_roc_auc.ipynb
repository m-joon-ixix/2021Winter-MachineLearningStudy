{
 "cells": [
  {
   "cell_type": "code",
   "execution_count": 2,
   "metadata": {
    "collapsed": true
   },
   "outputs": [
    {
     "name": "stdout",
     "output_type": "stream",
     "text": [
      "F1 Score = 0.7805\n"
     ]
    }
   ],
   "source": [
    "# 4. F1 Score\n",
    "\n",
    "from sklearn.metrics import f1_score\n",
    "import pandas as pd\n",
    "from chapter2.transform_titanic_df import transform_features\n",
    "from sklearn.model_selection import train_test_split\n",
    "from sklearn.linear_model import LogisticRegression\n",
    "\n",
    "titanic_df = pd.read_csv('C:/Users/minjo/MLdata/titanic/train.csv')\n",
    "y_titanic_df = titanic_df['Survived']\n",
    "X_titanic_df = titanic_df.drop('Survived', axis=1)\n",
    "X_titanic_df = transform_features(X_titanic_df)\n",
    "X_train, X_test, y_train, y_test = train_test_split(X_titanic_df, y_titanic_df, test_size=0.2, random_state=11)\n",
    "\n",
    "lr_clf = LogisticRegression(max_iter=120)\n",
    "lr_clf.fit(X_train, y_train)\n",
    "pred = lr_clf.predict(X_test)\n",
    "\n",
    "print('F1 Score = {0:.4f}'.format(f1_score(y_test, pred)))"
   ]
  },
  {
   "cell_type": "code",
   "execution_count": 5,
   "outputs": [
    {
     "name": "stdout",
     "output_type": "stream",
     "text": [
      "Threshold =  0.4\n",
      "Confusion Matrix: \n",
      "[[98 20]\n",
      " [10 51]]\n",
      "Accuracy = 0.8324, Precision = 0.7183, Recall = 0.8361, F1 Score = 0.7727, AUC score = 0.9024\n",
      "\n",
      "Threshold =  0.45\n",
      "Confusion Matrix: \n",
      "[[103  15]\n",
      " [ 12  49]]\n",
      "Accuracy = 0.8492, Precision = 0.7656, Recall = 0.8033, F1 Score = 0.7840, AUC score = 0.9024\n",
      "\n",
      "Threshold =  0.5\n",
      "Confusion Matrix: \n",
      "[[104  14]\n",
      " [ 13  48]]\n",
      "Accuracy = 0.8492, Precision = 0.7742, Recall = 0.7869, F1 Score = 0.7805, AUC score = 0.9024\n",
      "\n",
      "Threshold =  0.55\n",
      "Confusion Matrix: \n",
      "[[109   9]\n",
      " [ 15  46]]\n",
      "Accuracy = 0.8659, Precision = 0.8364, Recall = 0.7541, F1 Score = 0.7931, AUC score = 0.9024\n",
      "\n",
      "Threshold =  0.6\n",
      "Confusion Matrix: \n",
      "[[112   6]\n",
      " [ 16  45]]\n",
      "Accuracy = 0.8771, Precision = 0.8824, Recall = 0.7377, F1 Score = 0.8036, AUC score = 0.9024\n",
      "\n"
     ]
    }
   ],
   "source": [
    "from sklearn.metrics import confusion_matrix\n",
    "from sklearn.metrics import accuracy_score\n",
    "from sklearn.metrics import precision_score\n",
    "from sklearn.metrics import recall_score\n",
    "\n",
    "# 5. ROC curve & ROC-AUC score\n",
    "\n",
    "from sklearn.metrics import roc_curve\n",
    "from sklearn.metrics import roc_auc_score\n",
    "\n",
    "# just added F1 score & ROC-AUC score to previous section's contents\n",
    "def get_clf_eval(y_test, pred, pred_proba_c1):\n",
    "    matrix = confusion_matrix(y_test, pred)\n",
    "    accuracy = accuracy_score(y_test, pred)\n",
    "    precision = precision_score(y_test, pred)\n",
    "    recall = recall_score(y_test, pred)\n",
    "    f1 = f1_score(y_test, pred)  # F1 score\n",
    "    roc_auc = roc_auc_score(y_test, pred_proba_c1)\n",
    "    print('Confusion Matrix: ')\n",
    "    print(matrix)\n",
    "    print('Accuracy = {0:.4f}, Precision = {1:.4f}, Recall = {2:.4f}, F1 Score = {3:.4f}, '\n",
    "          'AUC score = {4:.4f}'.format(accuracy, precision, recall, f1, roc_auc))\n",
    "\n",
    "# same as previous section's contents -----------\n",
    "pred_proba = lr_clf.predict_proba(X_test)\n",
    "from sklearn.preprocessing import Binarizer  # makes a binary prediction based on the threshold\n",
    "\n",
    "def get_eval_by_threshold(y_test, pred_proba_1, thresholds):\n",
    "    # pred_proba_c1: probabilities of each row being 1\n",
    "    for my_threshold in thresholds:\n",
    "        binarizer = Binarizer(threshold=my_threshold).fit(pred_proba_1)\n",
    "        pred = binarizer.transform(pred_proba_1)\n",
    "        print('Threshold = ', my_threshold)\n",
    "        get_clf_eval(y_test, pred, pred_proba_1)\n",
    "        print()\n",
    "\n",
    "thresholds = [0.4, 0.45, 0.5, 0.55, 0.6]\n",
    "get_eval_by_threshold(y_test, pred_proba[:, 1].reshape(-1, 1), thresholds)\n",
    "# -----------------------------------------------"
   ],
   "metadata": {
    "collapsed": false,
    "pycharm": {
     "name": "#%%\n"
    }
   }
  },
  {
   "cell_type": "code",
   "execution_count": 8,
   "outputs": [
    {
     "name": "stdout",
     "output_type": "stream",
     "text": [
      "Indexes selected:  [ 1  7 13 19 25 31 37 43 49]\n",
      "Thresholds selected:  [0.9651 0.6512 0.6266 0.5377 0.4034 0.3479 0.1481 0.1228 0.1115]\n",
      "FPR for each case:    [0.     0.0254 0.0424 0.0847 0.161  0.2034 0.4831 0.6186 0.7881]\n",
      "TPR for each case:    [0.0328 0.6393 0.7377 0.7869 0.8361 0.8852 0.9016 0.9508 0.9672]\n"
     ]
    }
   ],
   "source": [
    "import numpy as np\n",
    "\n",
    "pred_proba_positive = pred_proba[:, 1]\n",
    "fprs, tprs, thresholds = roc_curve(y_test, pred_proba_positive)\n",
    "th_idxs = np.arange(1, thresholds.shape[0], 6)\n",
    "print('Indexes selected: ', th_idxs)\n",
    "print('Thresholds selected: ', np.round(thresholds[th_idxs], 4))\n",
    "print('FPR for each case:   ', np.round(fprs[th_idxs], 4))\n",
    "print('TPR for each case:   ', np.round(tprs[th_idxs], 4))"
   ],
   "metadata": {
    "collapsed": false,
    "pycharm": {
     "name": "#%%\n"
    }
   }
  },
  {
   "cell_type": "code",
   "execution_count": 9,
   "outputs": [
    {
     "data": {
      "text/plain": "<Figure size 432x288 with 1 Axes>",
      "image/png": "[encoded data removed]"
     },
     "metadata": {
      "needs_background": "light"
     },
     "output_type": "display_data"
    }
   ],
   "source": [
    "# Draw the ROC curve\n",
    "import matplotlib.pyplot as plt\n",
    "\n",
    "def roc_curve_plot(y_test, pred_proba_positive):\n",
    "    fprs, tprs, thresholds = roc_curve(y_test, pred_proba_positive)\n",
    "    plt.plot(fprs, tprs, label='ROC')\n",
    "    plt.plot([0, 1], [0, 1], 'k--', label='Random')\n",
    "\n",
    "    start, end = plt.xlim()\n",
    "    plt.xticks(np.round(np.arange(start, end, 0.1), 2))\n",
    "    plt.xlim(0, 1)\n",
    "    plt.ylim(0, 1)\n",
    "    plt.xlabel('FPR (1 - sensitivity)')\n",
    "    plt.ylabel('TPR (Recall)')\n",
    "    plt.legend()\n",
    "\n",
    "roc_curve_plot(y_test, pred_proba_positive)"
   ],
   "metadata": {
    "collapsed": false,
    "pycharm": {
     "name": "#%%\n"
    }
   }
  },
  {
   "cell_type": "code",
   "execution_count": 10,
   "outputs": [
    {
     "name": "stdout",
     "output_type": "stream",
     "text": [
      "ROC-AUC score = 0.9024\n"
     ]
    }
   ],
   "source": [
    "print('ROC-AUC score = {0:.4f}'.format(roc_auc_score(y_test, pred_proba_positive)))"
   ],
   "metadata": {
    "collapsed": false,
    "pycharm": {
     "name": "#%%\n"
    }
   }
  }
 ],
 "metadata": {
  "kernelspec": {
   "display_name": "Python 3",
   "language": "python",
   "name": "python3"
  },
  "language_info": {
   "codemirror_mode": {
    "name": "ipython",
    "version": 2
   },
   "file_extension": ".py",
   "mimetype": "text/x-python",
   "name": "python",
   "nbconvert_exporter": "python",
   "pygments_lexer": "ipython2",
   "version": "2.7.6"
  }
 },
 "nbformat": 4,
 "nbformat_minor": 0
}