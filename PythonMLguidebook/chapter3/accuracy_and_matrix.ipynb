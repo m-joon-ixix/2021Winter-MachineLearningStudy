{
 "cells": [
  {
   "cell_type": "code",
   "execution_count": 4,
   "metadata": {
    "collapsed": true
   },
   "outputs": [
    {
     "name": "stdout",
     "output_type": "stream",
     "text": [
      "Actual test data (y) distribution: \n",
      "0    405\n",
      "1     45\n",
      "dtype: int64\n",
      "Accuracy of all false prediction: 0.9000\n",
      "--> This is not a good evaluation method!\n"
     ]
    }
   ],
   "source": [
    "# 1. Accuracy\n",
    "from sklearn.datasets import load_digits\n",
    "from sklearn.model_selection import train_test_split\n",
    "from sklearn.base import BaseEstimator\n",
    "from sklearn.metrics import accuracy_score\n",
    "import numpy as np\n",
    "import pandas as pd\n",
    "\n",
    "# a new classifier that predicts every case as False (0)\n",
    "class MyFakeClassifier(BaseEstimator):  # inherits from BaseEstimator\n",
    "    def fit(self, X, y):\n",
    "        pass  # do nothing\n",
    "\n",
    "    def predict(self, X):\n",
    "        return np.zeros((X.shape[0], 1), dtype=bool)\n",
    "\n",
    "digits = load_digits()\n",
    "y = (digits.target == 7).astype(int)\n",
    "X_train, X_test, y_train, y_test = train_test_split(digits.data, y, random_state=11)\n",
    "\n",
    "print('Actual test data (y) distribution: ')\n",
    "print(pd.Series(y_test).value_counts())\n",
    "\n",
    "# Make predictions with the FakeClassifier\n",
    "fake_clf = MyFakeClassifier()\n",
    "fake_clf.fit(X_train, y_train)\n",
    "fake_pred = fake_clf.predict(X_test)\n",
    "print('Accuracy of all false prediction: {0:.4f}'.format(accuracy_score(y_test, fake_pred)))\n",
    "\n",
    "print('--> This is not a good evaluation method!')"
   ]
  },
  {
   "cell_type": "code",
   "execution_count": 5,
   "outputs": [
    {
     "data": {
      "text/plain": "array([[405,   0],\n       [ 45,   0]], dtype=int64)"
     },
     "execution_count": 5,
     "metadata": {},
     "output_type": "execute_result"
    }
   ],
   "source": [
    "# 2. Confusion Matrix (오차행렬)\n",
    "from sklearn.metrics import confusion_matrix\n",
    "confusion_matrix(y_test, fake_pred)"
   ],
   "metadata": {
    "collapsed": false,
    "pycharm": {
     "name": "#%%\n"
    }
   }
  }
 ],
 "metadata": {
  "kernelspec": {
   "display_name": "Python 3",
   "language": "python",
   "name": "python3"
  },
  "language_info": {
   "codemirror_mode": {
    "name": "ipython",
    "version": 2
   },
   "file_extension": ".py",
   "mimetype": "text/x-python",
   "name": "python",
   "nbconvert_exporter": "python",
   "pygments_lexer": "ipython2",
   "version": "2.7.6"
  }
 },
 "nbformat": 4,
 "nbformat_minor": 0
}