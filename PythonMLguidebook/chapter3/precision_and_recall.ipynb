{
 "cells": [
  {
   "cell_type": "code",
   "execution_count": 20,
   "metadata": {
    "collapsed": true
   },
   "outputs": [],
   "source": [
    "# 3. Precision & Recall (정밀도 & 재현율)\n",
    "from sklearn.metrics import accuracy_score, precision_score, recall_score, confusion_matrix\n",
    "\n",
    "# a function that prints accuracy, precision, recall, and confusion matrix\n",
    "def get_clf_eval(y_test, pred):\n",
    "    matrix = confusion_matrix(y_test, pred)\n",
    "    accuracy = accuracy_score(y_test, pred)\n",
    "    precision = precision_score(y_test, pred)\n",
    "    recall = recall_score(y_test, pred)\n",
    "    print('Confusion Matrix: ')\n",
    "    print(matrix)\n",
    "    print('Accuracy = {0:.4f}, Precision = {1:.4f}, Recall = {2:.4f}'.format(accuracy, precision, recall))"
   ]
  },
  {
   "cell_type": "code",
   "execution_count": 21,
   "outputs": [
    {
     "name": "stdout",
     "output_type": "stream",
     "text": [
      "Confusion Matrix: \n",
      "[[104  14]\n",
      " [ 13  48]]\n",
      "Accuracy = 0.8492, Precision = 0.7742, Recall = 0.7869\n"
     ]
    }
   ],
   "source": [
    "import pandas as pd\n",
    "from sklearn.model_selection import train_test_split\n",
    "from sklearn.linear_model import LogisticRegression\n",
    "\n",
    "# ------- From chapter2 example -------\n",
    "from chapter2.transform_titanic_df import transform_features\n",
    "#-----------------------------\n",
    "\n",
    "titanic_df = pd.read_csv('C:/Users/minjo/MLdata/titanic/train.csv')\n",
    "y_titanic_df = titanic_df['Survived']\n",
    "X_titanic_df = titanic_df.drop('Survived', axis=1)\n",
    "X_titanic_df = transform_features(X_titanic_df)\n",
    "X_train, X_test, y_train, y_test = train_test_split(X_titanic_df, y_titanic_df, test_size=0.2, random_state=11)\n",
    "\n",
    "lr_clf = LogisticRegression(max_iter = 120)\n",
    "lr_clf.fit(X_train, y_train)\n",
    "pred = lr_clf.predict(X_test)\n",
    "get_clf_eval(y_test, pred)"
   ],
   "metadata": {
    "collapsed": false,
    "pycharm": {
     "name": "#%%\n"
    }
   }
  },
  {
   "cell_type": "code",
   "execution_count": 22,
   "outputs": [
    {
     "name": "stdout",
     "output_type": "stream",
     "text": [
      "Probabilities of each row: \n",
      " [[0.46228984 0.53771016]\n",
      " [0.87873308 0.12126692]\n",
      " [0.8772212  0.1227788 ]\n",
      " [0.88255292 0.11744708]\n",
      " [0.85543445 0.14456555]]\n",
      "Final Prediction of each row: \n",
      " [1 0 0 0 0]\n"
     ]
    }
   ],
   "source": [
    "# predict_proba(): returns array with probabilities of each row's prediction\n",
    "# column0: prob. of prediction being 0 (false), column1: prob. of prediction being 1 (true)\n",
    "pred_proba = lr_clf.predict_proba(X_test)\n",
    "print('Probabilities of each row: \\n', pred_proba[:5])\n",
    "print('Final Prediction of each row: \\n', pred[:5])"
   ],
   "metadata": {
    "collapsed": false,
    "pycharm": {
     "name": "#%%\n"
    }
   }
  },
  {
   "cell_type": "code",
   "execution_count": 23,
   "outputs": [
    {
     "name": "stdout",
     "output_type": "stream",
     "text": [
      "Threshold =  0.4\n",
      "Confusion Matrix: \n",
      "[[98 20]\n",
      " [10 51]]\n",
      "Accuracy = 0.8324, Precision = 0.7183, Recall = 0.8361\n",
      "\n",
      "Threshold =  0.45\n",
      "Confusion Matrix: \n",
      "[[103  15]\n",
      " [ 12  49]]\n",
      "Accuracy = 0.8492, Precision = 0.7656, Recall = 0.8033\n",
      "\n",
      "Threshold =  0.5\n",
      "Confusion Matrix: \n",
      "[[104  14]\n",
      " [ 13  48]]\n",
      "Accuracy = 0.8492, Precision = 0.7742, Recall = 0.7869\n",
      "\n",
      "Threshold =  0.55\n",
      "Confusion Matrix: \n",
      "[[109   9]\n",
      " [ 15  46]]\n",
      "Accuracy = 0.8659, Precision = 0.8364, Recall = 0.7541\n",
      "\n",
      "Threshold =  0.6\n",
      "Confusion Matrix: \n",
      "[[112   6]\n",
      " [ 16  45]]\n",
      "Accuracy = 0.8771, Precision = 0.8824, Recall = 0.7377\n",
      "\n"
     ]
    }
   ],
   "source": [
    "# have a look at <precision vs. recall> on various thresholds\n",
    "from sklearn.preprocessing import Binarizer  # makes a binary prediction based on the threshold\n",
    "def get_eval_by_threshold(y_test, pred_proba_1, thresholds):\n",
    "    # pred_proba_c1: probabilities of each row being 1\n",
    "    for my_threshold in thresholds:\n",
    "        binarizer = Binarizer(threshold=my_threshold).fit(pred_proba_1)\n",
    "        pred = binarizer.transform(pred_proba_1)\n",
    "        print('Threshold = ', my_threshold)\n",
    "        get_clf_eval(y_test, pred)\n",
    "        print()\n",
    "\n",
    "thresholds = [0.4, 0.45, 0.5, 0.55, 0.6]\n",
    "get_eval_by_threshold(y_test, pred_proba[:, 1].reshape(-1, 1), thresholds)"
   ],
   "metadata": {
    "collapsed": false,
    "pycharm": {
     "name": "#%%\n"
    }
   }
  },
  {
   "cell_type": "code",
   "execution_count": 24,
   "outputs": [
    {
     "name": "stdout",
     "output_type": "stream",
     "text": [
      "Indexes selected:  [  0  15  30  45  60  75  90 105 120 135]\n",
      "Selected thresholds:  [0.1039 0.1213 0.1404 0.1861 0.2806 0.4034 0.5634 0.6667 0.8218 0.9472]\n",
      "Precisions matching:  [0.3885 0.4403 0.4661 0.5392 0.6471 0.7286 0.8364 0.9487 0.9583 1.    ]\n",
      "Recalls matching:     [1.     0.9672 0.9016 0.9016 0.9016 0.8361 0.7541 0.6066 0.377  0.1475]\n"
     ]
    }
   ],
   "source": [
    "# Trade-off between Precision vs. Recall\n",
    "import numpy as np\n",
    "from sklearn.metrics import precision_recall_curve  # automatically computes with various thresholds\n",
    "precisions, recalls, thresholds2 = precision_recall_curve(y_test, pred_proba[:, 1])\n",
    "thres_idx = np.arange(0, thresholds2.shape[0], 15)\n",
    "print('Indexes selected: ', thres_idx)\n",
    "print('Selected thresholds: ', np.round(thresholds2[thres_idx], 4))\n",
    "print('Precisions matching: ', np.round(precisions[thres_idx], 4))\n",
    "print('Recalls matching:    ', np.round(recalls[thres_idx], 4))"
   ],
   "metadata": {
    "collapsed": false,
    "pycharm": {
     "name": "#%%\n"
    }
   }
  },
  {
   "cell_type": "code",
   "execution_count": 25,
   "outputs": [
    {
     "data": {
      "text/plain": "<Figure size 576x432 with 1 Axes>",
      "image/png": "[encoded data removed]"
     },
     "metadata": {
      "needs_background": "light"
     },
     "output_type": "display_data"
    }
   ],
   "source": [
    "# Have a look at this with a graph\n",
    "import matplotlib.pyplot as plt\n",
    "import matplotlib.ticker as ticker\n",
    "%matplotlib inline\n",
    "\n",
    "def precision_recall_curve_plot(y_test, pred_proba_c1):\n",
    "    precisions, recalls, thresholds = precision_recall_curve(y_test, pred_proba_c1)\n",
    "    plt.figure(figsize=(8, 6))\n",
    "    num_of_thresholds = thresholds.shape[0]\n",
    "    plt.plot(thresholds, precisions[0:num_of_thresholds], linestyle='--', label='precision')\n",
    "    plt.plot(thresholds, recalls[0:num_of_thresholds], label='recall')\n",
    "    start, end = plt.xlim()\n",
    "    plt.xticks(np.round(np.arange(start, end, 0.1), 2))\n",
    "    plt.xlabel('Threshold value')\n",
    "    plt.ylabel('Precision and Recall values')\n",
    "    plt.legend()\n",
    "    plt.grid()\n",
    "    plt.show()\n",
    "\n",
    "precision_recall_curve_plot(y_test, pred_proba[:, 1])\n"
   ],
   "metadata": {
    "collapsed": false,
    "pycharm": {
     "name": "#%%\n"
    }
   }
  }
 ],
 "metadata": {
  "kernelspec": {
   "display_name": "Python 3",
   "language": "python",
   "name": "python3"
  },
  "language_info": {
   "codemirror_mode": {
    "name": "ipython",
    "version": 2
   },
   "file_extension": ".py",
   "mimetype": "text/x-python",
   "name": "python",
   "nbconvert_exporter": "python",
   "pygments_lexer": "ipython2",
   "version": "2.7.6"
  }
 },
 "nbformat": 4,
 "nbformat_minor": 0
}